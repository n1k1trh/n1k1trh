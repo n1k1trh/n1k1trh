{
  "nbformat": 4,
  "nbformat_minor": 0,
  "metadata": {
    "colab": {
      "provenance": [],
      "authorship_tag": "ABX9TyOXknQLWk1EZ7+YlyAVgyZE",
      "include_colab_link": true
    },
    "kernelspec": {
      "name": "python3",
      "display_name": "Python 3"
    },
    "language_info": {
      "name": "python"
    }
  },
  "cells": [
    {
      "cell_type": "markdown",
      "metadata": {
        "id": "view-in-github",
        "colab_type": "text"
      },
      "source": [
        "<a href=\"https://colab.research.google.com/github/n1k1trh/n1k1trh/blob/main/Untitled0.ipynb\" target=\"_parent\"><img src=\"https://colab.research.google.com/assets/colab-badge.svg\" alt=\"Open In Colab\"/></a>"
      ]
    },
    {
      "cell_type": "code",
      "execution_count": null,
      "metadata": {
        "id": "VuTXNrXp3Bvg"
      },
      "outputs": [],
      "source": [
        "#Python code for the AI for training and classifying pills based on their images\n",
        "\n",
        "import tensorflow as tf\n",
        "from tensorflow import keras\n",
        "froms tensorflow.keras import layers\n",
        "import numpy as np\n",
        "import matplotlib.pyplot as plt\n",
        "import os\n",
        "from tensorflow.keras.preprocessing.image import ImageDataGenerator\n",
        "\n",
        "#define data path\n",
        "data_dir = \"Path/to/pill/imgs\" #dataset folder pathway\n",
        "\n",
        "#data augmentation -> get it from the img of the pills\n",
        "datagen = ImageDataGenerator (\n",
        "    rescale = 1.0 / 255,\n",
        "    validation_split = 0.2\n",
        ")\n",
        "\n",
        "train_data = datagen.flow_from_directory (\n",
        "    data_dir,\n",
        "    target_size = (128, 128), batch_size = 32,\n",
        "    class_mode = 'categorical', subset = 'training'\n",
        ")\n",
        "\n",
        "val_data = datagen.flow_from_directory (\n",
        "    data_dir,\n",
        "    target_size = (128, 128), batch_size = 32,\n",
        "    class_mode = 'categorical', subset = 'validation'\n",
        ")\n",
        "\n",
        "#define CNN model\n",
        "model = keras.Sequential ([\n",
        "\n",
        "    layers.Conv2D(32, (3,3), activation = 'relu', input_shape = (128,128,3)),\n",
        "    layers.MaxPooling2D(2, 2),\n",
        "    layers.Conv2D(64, (3,3), activation = 'relu'),\n",
        "    layers.MaxPooling2D(2, 2)\n",
        "    Layers.Conv2D(128, (3,3), activation = 'relu'),\n",
        "    layers.MaxPooling2D(2, 2),\n",
        "    Layers.Flatten(),\n",
        "    Layers.Dense(128, activation = 'relu'),\n",
        "    Layers.Dense(len(train_data.class_indices), activation = 'softmax')\n",
        "\n",
        "])\n",
        "\n",
        "#compile model\n",
        "model.compile(optimizer = 'adam', loss = 'categorical_crossentropy', metrics = ['accuracy'])\n",
        "history = model.fit(train_data, validation_data = val_data, epochs = 15)\n",
        "model.save(\"pill_classifier.h5\")\n",
        "\n",
        "#plot\n",
        "plt.plot(history.history['accuracy'], label = 'train accuracy') #training\n",
        "plt.plot(history.history['val_accuracy'], label = 'val accuracy') #validation\n",
        "plt.legend()\n",
        "plt.show()\n",
        "\n",
        "#predict pill type\n",
        "def classify(image_path) {\n",
        "    img = keras.preprocessing.image.load_img(image_path, target_size = (128, 128)) #128 by 128 pic size\n",
        "    img_array = keras.preprocessing.image.img_to_array(img) / 255\n",
        "    img_array = mp.expand_dims(img_array, axis = 0)\n",
        "    prediction = model.predict(img_array)\n",
        "    class_names = list(train_data.class_indices.keys())\n",
        "    return class_names[np.argmax(prediction)]\n",
        "}\n",
        "\n",
        "#example usage\n",
        "image_path = \"Path/to/test_pill.jpg\"\n",
        "predicted_class = classify(image_path)\n",
        "print(\"Predicted Pill type: \", predicted_class)\n",
        "\n"
      ]
    },
    {
      "cell_type": "code",
      "source": [
        "#run the ai script on computer, before sending it to the arduino\n",
        "import serial\n",
        "import time\n",
        "from tensorflow import keras\n",
        "import numpy as np\n",
        "\n",
        "model = keras.models.load_model(\"pill_classifier.h5\")\n",
        "arduino = serial.Serial(port = '/dev/ttyUSB0', baudrate = 9600, timeout = 1)\n",
        "time.sleep(2) # give time to connect to the ardunio b4 starting\n",
        "\n",
        "def classify_send(image_path) :\n",
        "    img = keras.preprocessing.image.load_img(image_path, target_size = (128, 128))\n",
        "    img_array = keras.preprocessing.imgae.img_to_array(img) / 255\n",
        "    img_array = np.expand_dims(img_array, axis = 0)\n",
        "\n",
        "    prediction = model.predict(img_array)\n",
        "    class_names = [\"Pill A\", \"Pill B\", \"Pill C\", \"Pill D\", \"Pill E\"] #update with actl types in future\n",
        "    predicted_class = class_names[np.argmax(prediction)]\n",
        "    print(\"Predicted: \", predicted_class)\n",
        "\n",
        "    pill_tags = {\"Pill A: \"1\"\"}\n",
        "    tag_id = pill_tags.get(predicted_class, \"0\") #default to NULL if unknown\n",
        "\n",
        "    arduino.write(tag_id.encode())\n",
        "    time.sleep(1)\n",
        "    response = arduino.readline().decode().strip()\n",
        "    print(\"Ardunio Response: \", response)\n",
        "\n",
        "\n",
        "#example usage\n",
        "classify_send(\"Path/to/test_pill.jpg\")\n",
        "\n"
      ],
      "metadata": {
        "id": "LRmieOvP-M57"
      },
      "execution_count": null,
      "outputs": []
    }
  ]
}